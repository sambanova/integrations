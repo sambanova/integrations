{
 "cells": [
  {
   "cell_type": "markdown",
   "metadata": {
    "id": "PS-82ezYaN4N"
   },
   "source": [
    "# 🤝 Customer Service Discord Bot with Agentic RAG Powered by Qwen models served by SambaNova, using 🐫 CAMEL, Firecrawl & Qdrant"
   ]
  },
  {
   "cell_type": "markdown",
   "metadata": {
    "id": "Df83ecULZgqM"
   },
   "source": [
    "<div class=\"align-center\">\n",
    "  <a href=\"https://www.camel-ai.org/\"><img src=\"https://i.postimg.cc/KzQ5rfBC/button.png\"width=\"150\"></a>\n",
    "  <a href=\"https://discord.camel-ai.org\"><img src=\"https://i.postimg.cc/L4wPdG9N/join-2.png\"  width=\"150\"></a></a>\n",
    "  \n",
    "  Join our Discord if you need help + ⭐ <i>Star us on <a href=\"https://github.com/camel-ai/camel\">Github</a> </i> ⭐\n",
    "</div>\n",
    "\n",
    "\n",
    "![image](./imgs/workflow.png)"
   ]
  },
  {
   "cell_type": "markdown",
   "metadata": {
    "id": "8knO0MqOHGJo"
   },
   "source": [
    "## Installation and Setup\n",
    "\n",
    "Set your environment using the tool of your preference and the requirements.txt file"
   ]
  },
  {
   "cell_type": "markdown",
   "metadata": {
    "id": "e4Qx_IWtdwzr"
   },
   "source": [
    "Next, set up your API keys for Firecrawl and SambaNova"
   ]
  },
  {
   "cell_type": "markdown",
   "metadata": {
    "id": "KBajuNl3akJ_"
   },
   "source": [
    "If you don't have a FireCrawl API key, you can obtain one by following these steps:\n",
    "\n",
    "1. Visit the FireCrawl API Key page https://www.firecrawl.dev/app/api-keys\n",
    "\n",
    "2. Log in or sign up for a FireCrawl account.\n",
    "\n",
    "3. Navigate to the 'API Keys' section.\n",
    "\n",
    "4. Click on 'Create API Key' button to generate a new API key.\n",
    "\n",
    "For more details, you can also check the Firecrawl documentation: https://docs.firecrawl.dev/api-reference/introduction"
   ]
  },
  {
   "cell_type": "markdown",
   "metadata": {
    "id": "8YJ0yq5zsBvI"
   },
   "source": [
    "If you don't have a SambaNova Cloud API key, you can obtain one by following these steps:\n",
    "\n",
    "1. Visit the SambaNova Cloud page https://cloud.sambanova.ai/apis\n",
    "\n",
    "2. Log in or sign up for a SambaNova account.\n",
    "\n",
    "3. Navigate to the 'API Keys' section.\n",
    "\n",
    "4. Click on 'Create API Key' button to generate a new API key.\n",
    "\n",
    "For more details, you can also check the SambaNova documentation: https://community.sambanova.ai/c/docs/"
   ]
  },
  {
   "cell_type": "markdown",
   "metadata": {
    "id": "SoUaHDMKf6nt"
   },
   "source": [
    "## Knowledge Crawling and Storage\n",
    "\n",
    "Let's load the env variables needed for this project, which are:\n",
    "- FIRECRAWL_API_KEY: Firecrawl API key\n",
    "- SAMBA_API_KEY: SambaNova Cloud API key\n",
    "- DISCORD_TOKEN: Discord Bot token"
   ]
  },
  {
   "cell_type": "code",
   "execution_count": null,
   "metadata": {},
   "outputs": [],
   "source": [
    "import os\n",
    "import sys\n",
    "sys.path.append('../../')\n",
    "\n",
    "from dotenv import load_dotenv\n",
    "load_dotenv()"
   ]
  },
  {
   "cell_type": "markdown",
   "metadata": {
    "id": "Fb3Rv9r2HPH0"
   },
   "source": [
    "Use Firecrawl to crawl a website and get markdown content as external knowledge:\n",
    "\n"
   ]
  },
  {
   "cell_type": "code",
   "execution_count": null,
   "metadata": {},
   "outputs": [],
   "source": [
    "from camel.loaders import Firecrawl\n",
    "\n",
    "firecrawl = Firecrawl()\n",
    "\n",
    "knowledge = firecrawl.crawl(\n",
    "    url=\"https://sambanova.ai/blog/qwen-2.5-32b-coder-available-on-sambanova-cloud\"\n",
    ")[\"data\"][0][\"markdown\"]"
   ]
  },
  {
   "cell_type": "markdown",
   "metadata": {
    "id": "w29eL6f1Q4PN"
   },
   "source": [
    "Store the content in a markdown file:"
   ]
  },
  {
   "cell_type": "code",
   "execution_count": null,
   "metadata": {
    "id": "2pnI6HhAQ1d2"
   },
   "outputs": [],
   "source": [
    "os.makedirs('data', exist_ok=True)\n",
    "\n",
    "with open('data/sambanova_announcement.md', 'w')as file:\n",
    "     file.write(knowledge)"
   ]
  },
  {
   "cell_type": "markdown",
   "metadata": {
    "id": "o9FRQDSYgJIp"
   },
   "source": [
    "## Basic Agent Setup"
   ]
  },
  {
   "cell_type": "markdown",
   "metadata": {
    "id": "2xM10-BCgPXf"
   },
   "source": [
    "Qwen is large language model developed by Alibaba. It is trained on a massive dataset of text and code and can generate text, translate languages, write different kinds of creative content, and answer your questions in an informative way.\n",
    "\n",
    "Use Qwen models with SambaNova Cloud to set up CAMEL agent:"
   ]
  },
  {
   "cell_type": "code",
   "execution_count": null,
   "metadata": {
    "id": "H6q5xbQtajUj"
   },
   "outputs": [],
   "source": [
    "from camel.configs import SambaCloudAPIConfig\n",
    "from camel.models import ModelFactory\n",
    "from camel.types import ModelPlatformType, ModelType\n",
    "from camel.agents import ChatAgent\n",
    "from camel.messages import BaseMessage\n",
    "\n",
    "\n",
    "#### Set up Agent using Qwen2.5-Coder-32B-Instruct #####\n",
    "qwen_model = ModelFactory.create(\n",
    "    model_platform=ModelPlatformType.SAMBA,\n",
    "    model_type=\"Qwen2.5-Coder-32B-Instruct\",\n",
    "    model_config_dict=SambaCloudAPIConfig(max_tokens=4000).as_dict(),\n",
    ")\n",
    "\n",
    "# ##### Set up Agent using Qwen2.5-72B-Instruct #####\n",
    "# qwen_model = ModelFactory.create(\n",
    "#     model_platform=ModelPlatformType.SAMBA,\n",
    "#     model_type=\"Qwen2.5-72B-Instruct\",\n",
    "#     model_config_dict=SambaCloudAPIConfig(max_tokens=4000).as_dict(),\n",
    "# )\n",
    "\n",
    "chat_agent = ChatAgent(\n",
    "    system_message=\"You're a helpful assistant\",\n",
    "    message_window_size=20,\n",
    "    model=qwen_model\n",
    ")"
   ]
  },
  {
   "cell_type": "markdown",
   "metadata": {
    "id": "XOtQ9UgWSeM9"
   },
   "source": [
    "Insert the external knowledge to Agent"
   ]
  },
  {
   "cell_type": "code",
   "execution_count": null,
   "metadata": {
    "id": "LCGoQ5Q2JuiQ"
   },
   "outputs": [],
   "source": [
    "knowledge_message = BaseMessage.make_user_message(\n",
    "    role_name=\"User\", content=f\"Based on the following knowledge: {knowledge}\"\n",
    ")\n",
    "chat_agent.update_memory(knowledge_message, \"user\")"
   ]
  },
  {
   "cell_type": "markdown",
   "metadata": {
    "id": "Xa6WE1haIDKk"
   },
   "source": [
    "## Basic Chatbot Setup"
   ]
  },
  {
   "cell_type": "markdown",
   "metadata": {
    "id": "PSN8i0TpTMjA"
   },
   "source": [
    "Let's set up the basic Chatbot with CAMEL Agent and ask some questions!\n",
    "\n",
    "Example question you can ask:\n",
    "\n",
    "*How SambaNova Cloud supports Qwen 2.5 Coder and how fast it is?*"
   ]
  },
  {
   "cell_type": "code",
   "execution_count": null,
   "metadata": {
    "id": "QI6VUCkKUm8p"
   },
   "outputs": [],
   "source": [
    "print(\"Start chatting! Type 'exit' to end the conversation.\")\n",
    "while True:\n",
    "    user_input = input(\"User: \")\n",
    "\n",
    "    if user_input.lower() == \"exit\":\n",
    "        print(\"Ending conversation.\")\n",
    "        break\n",
    "\n",
    "    assistant_response = chat_agent.step(user_input)\n",
    "    print(f\"Assistant: {assistant_response.msgs[0].content}\")"
   ]
  },
  {
   "cell_type": "markdown",
   "metadata": {
    "id": "yWvlxccagaqC"
   },
   "source": [
    "## Basic Discord Bot Integration"
   ]
  },
  {
   "cell_type": "markdown",
   "metadata": {
    "id": "E2J4DJXtIOLa"
   },
   "source": [
    "To build a discord bot, a discord bot token is necessary.\n",
    "\n",
    "If you don't have a bot token, you can obtain one by following these steps:\n",
    "\n",
    "1. Go to the Discord Developer Portal:https://discord.com/developers/applications\n",
    "\n",
    "2. Log in with your Discord account, or create an account if you don't have one\n",
    "\n",
    "3. Click on 'New Application' to create a new bot.\n",
    "\n",
    "4. Give your application a name and click 'Create'.\n",
    "\n",
    "5. Navigate to the 'Bot' tab on the left sidebar and click 'Add Bot'.\n",
    "\n",
    "6. Once the bot is created, you will find a 'Token' section. Click 'Reset Token' to generate a new token.\n",
    "\n",
    "7. Copy the generated token securely.\n",
    "\n",
    "To invite the bot:\n",
    "\n",
    "1. Navigate to the 'OAuth2' tab, then to 'URL Generator'.\n",
    "\n",
    "2. Under 'Scopes', select 'bot'.\n",
    "\n",
    "3. Under 'Bot Permissions', select the permissions your bot will need (e.g., 'Send Messages', 'Read Messages' for our bot use)\n",
    "\n",
    "4. Copy the generated URL and paste it into your browser to invite the bot to your server.\n",
    "\n",
    "To grant the bot permissions:\n",
    "\n",
    "1. Navigate to the 'Bot' tab\n",
    "\n",
    "2. Under 'Privileged Gateway Intents', check 'Server Members Intent' and 'Message Content Intent'.\n",
    "\n",
    "For more details, you can also check the official Discord bot documentation: https://discord.com/developers/docs/intro\n"
   ]
  },
  {
   "cell_type": "markdown",
   "metadata": {
    "id": "dWMboGfwI1wj"
   },
   "source": [
    "This code cell sets up a simple Discord bot using the DiscordApp class from the camel.bots library. The bot listens for messages in any channel it has access to and provides a response based on the input message."
   ]
  },
  {
   "cell_type": "code",
   "execution_count": null,
   "metadata": {
    "id": "dQUiOk-K_4P6"
   },
   "outputs": [],
   "source": [
    "from camel.bots import DiscordApp\n",
    "import nest_asyncio\n",
    "import discord\n",
    "\n",
    "nest_asyncio.apply()\n",
    "discord_bot = DiscordApp()\n",
    "\n",
    "@discord_bot.client.event\n",
    "async def on_message(message: discord.Message):\n",
    "    if message.author == discord_bot.client.user:\n",
    "        return\n",
    "\n",
    "    if message.type != discord.MessageType.default:\n",
    "        return\n",
    "\n",
    "    if message.author.bot:\n",
    "        return\n",
    "\n",
    "    user_input = message.content\n",
    "    chat_agent.reset()\n",
    "    chat_agent.update_memory(knowledge_message, \"user\")\n",
    "    assistant_response = chat_agent.step(user_input)\n",
    "\n",
    "    response_content = assistant_response.msgs[0].content\n",
    "\n",
    "    if len(response_content) > 2000: # discord message length limit\n",
    "        for chunk in [response_content[i:i+2000] for i in range(0, len(response_content), 2000)]:\n",
    "            await message.channel.send(chunk)\n",
    "    else:\n",
    "        await message.channel.send(response_content)\n",
    "\n",
    "discord_bot.run()"
   ]
  },
  {
   "cell_type": "markdown",
   "metadata": {},
   "source": [
    "![image](./imgs/chat1.png)"
   ]
  },
  {
   "cell_type": "markdown",
   "metadata": {
    "id": "kM1bayZ7Once"
   },
   "source": [
    "## Integrating Qdrant for More Files to build a more powerful Discord bot"
   ]
  },
  {
   "cell_type": "markdown",
   "metadata": {
    "id": "jhOieFGKgiJl"
   },
   "source": [
    "Qdrant is a vector similarity search engine and vector database. It is designed to perform fast and efficient similarity searches on large datasets of vectors. This enables the chatbot to access and utilize external information to provide more comprehensive and accurate responses. By storing knowledge as vectors, Qdrant enables efficient semantic search, allowing the chatbot to find relevant information based on the meaning of the user's query.\n",
    "\n",
    "In this section, we will add more data source, including camel's example code regarding how to use SambaNova Cloud, then ask more complex questions.\n",
    "\n",
    "Set up an embedding model and retriever for Qdrant:\n",
    "You can use Tesla T4 Google Colab instance for running open-source embedding models with RAG functionality for bots, feel free switch to other embedding models supported by CAMEL."
   ]
  },
  {
   "cell_type": "markdown",
   "metadata": {
    "id": "D693T9ZI-GQG"
   },
   "source": []
  },
  {
   "cell_type": "code",
   "execution_count": null,
   "metadata": {
    "id": "ZGtqC5qo_6iw"
   },
   "outputs": [],
   "source": [
    "from camel.embeddings import SentenceTransformerEncoder # CAMEL also support other embedding models\n",
    "from camel.types import EmbeddingModelType\n",
    "\n",
    "sentence_encoder = SentenceTransformerEncoder(model_name='intfloat/e5-large-v2')"
   ]
  },
  {
   "cell_type": "markdown",
   "metadata": {
    "id": "bVcRW2BICU1Y"
   },
   "source": [
    "Set up the AutoRetriever for retrieving relevant information from a storage system."
   ]
  },
  {
   "cell_type": "code",
   "execution_count": null,
   "metadata": {
    "id": "DCiF-4DQAZIS"
   },
   "outputs": [],
   "source": [
    "from camel.retrievers import AutoRetriever\n",
    "from camel.types import StorageType\n",
    "\n",
    "assistant_sys_msg = \"\"\"You are a helpful assistant to answer question,\n",
    "         I will give you the Original Query and Retrieved Context,\n",
    "        answer the Original Query based on the Retrieved Context,\n",
    "        if you can't answer the question just say I don't know.\n",
    "        Just give the answer to me directly, no more other words needed.\n",
    "        \"\"\"\n",
    "auto_retriever = AutoRetriever(\n",
    "              vector_storage_local_path=\"data/vectordb/\",\n",
    "              storage_type=StorageType.QDRANT,\n",
    "              embedding_model=sentence_encoder\n",
    "            )\n",
    "chat_agent_with_rag = ChatAgent(system_message=assistant_sys_msg, model=qwen_model)"
   ]
  },
  {
   "cell_type": "markdown",
   "metadata": {
    "id": "H2k95xTug4om"
   },
   "source": [
    "Use Auto RAG to retrieve first and then answer the user's query using CAMEL `ChatAgent` based on the retrieved info:"
   ]
  },
  {
   "cell_type": "code",
   "execution_count": null,
   "metadata": {
    "id": "JLGT4wf8Oy3D"
   },
   "outputs": [],
   "source": [
    "from camel.bots import DiscordApp\n",
    "import nest_asyncio\n",
    "import discord\n",
    "\n",
    "nest_asyncio.apply()\n",
    "discord_q_bot = DiscordApp()\n",
    "\n",
    "@discord_q_bot.client.event # triggers when a message is sent in the channel\n",
    "async def on_message(message: discord.Message):\n",
    "    if message.author == discord_q_bot.client.user:\n",
    "        return\n",
    "\n",
    "    if message.type != discord.MessageType.default:\n",
    "        return\n",
    "\n",
    "    if message.author.bot:\n",
    "        return\n",
    "\n",
    "    user_input = message.content\n",
    "\n",
    "    query_and_retrieved_info = auto_retriever.run_vector_retriever(\n",
    "        query=user_input,\n",
    "        contents=[\n",
    "            \"local_data/sambanova_announcement.md\", # SambaNova's anncouncement\n",
    "            \"https://github.com/camel-ai/camel/blob/master/examples/models/samba_model_example.py\", # CAMEL's example code for SambaNova Usage\n",
    "        ],\n",
    "        top_k=3,\n",
    "        return_detailed_info=False,\n",
    "        similarity_threshold=0.5\n",
    "    )\n",
    "\n",
    "    user_msg = str(query_and_retrieved_info)\n",
    "    assistant_response = chat_agent_with_rag.step(user_msg)\n",
    "    response_content = assistant_response.msgs[0].content\n",
    "\n",
    "    if len(response_content) > 2000: # discord message length limit\n",
    "        for chunk in [response_content[i:i+2000] for i in range(0, len(response_content), 2000)]:\n",
    "            await message.channel.send(chunk)\n",
    "    else:\n",
    "        await message.channel.send(response_content)\n",
    "\n",
    "discord_q_bot.run()"
   ]
  },
  {
   "cell_type": "markdown",
   "metadata": {
    "id": "0WXcnxfxcrEJ"
   },
   "source": [
    "Start from the same query as before:\n",
    "\n",
    "![image](./imgs/chat2.png)"
   ]
  },
  {
   "cell_type": "markdown",
   "metadata": {
    "id": "q_kr5EyPcvrn"
   },
   "source": [
    "Since we also added CAMEL's example code to the RAG Bot, let's ask some code related question:\n",
    "\n",
    "![image](./imgs/chat3.png)"
   ]
  },
  {
   "cell_type": "markdown",
   "metadata": {
    "id": "l_TI5xh5c4oN"
   },
   "source": [
    "Ask the bot to guide you through setting up `Qwen2.5-Coder-32B-Instruct`. CAMEL's bot, equipped with memory capabilities, can assist effectively by leveraging its ability to recall related information from previous interactions!\n",
    "![image](./imgs/chat4.png)"
   ]
  },
  {
   "cell_type": "markdown",
   "metadata": {
    "id": "xyK95yTFYku_"
   },
   "source": [
    "That's everything: Got questions about 🐫 CAMEL-AI? Join us on [Discord](https://discord.camel-ai.org)! Whether you want to share feedback, explore the latest in multi-agent systems, get support, or connect with others on exciting projects, we’d love to have you in the community! 🤝\n",
    "\n",
    "Check out some of our other work:\n",
    "\n",
    "1. 🐫 Creating Your First CAMEL Agent [free Colab](https://docs.camel-ai.org/cookbooks/create_your_first_agent.html)\n",
    "\n",
    "2.  Graph RAG Cookbook [free Colab](https://colab.research.google.com/drive/1uZKQSuu0qW6ukkuSv9TukLB9bVaS1H0U?usp=sharing)\n",
    "\n",
    "3. 🧑‍⚖️ Create A Hackathon Judge Committee with Workforce [free Colab](https://colab.research.google.com/drive/18ajYUMfwDx3WyrjHow3EvUMpKQDcrLtr?usp=sharing)\n",
    "\n",
    "4. 🔥 3 ways to ingest data from websites with Firecrawl & CAMEL [free Colab](https://colab.research.google.com/drive/1lOmM3VmgR1hLwDKdeLGFve_75RFW0R9I?usp=sharing)\n",
    "\n",
    "5. 🦥 Agentic SFT Data Generation with CAMEL and Mistral Models, Fine-Tuned with Unsloth [free Colab](https://colab.research.google.com/drive/1lYgArBw7ARVPSpdwgKLYnp_NEXiNDOd-?usp=sharingg)\n",
    "\n",
    "Thanks from everyone at 🐫 CAMEL-AI\n",
    "\n",
    "\n",
    "<div class=\"align-center\">\n",
    "  <a href=\"https://www.camel-ai.org/\"><img src=\"https://i.postimg.cc/KzQ5rfBC/button.png\"width=\"150\"></a>\n",
    "  <a href=\"https://discord.camel-ai.org\"><img src=\"https://i.postimg.cc/L4wPdG9N/join-2.png\"  width=\"150\"></a></a>\n",
    "  \n",
    "⭐ <i>Star us on <a href=\"https://github.com/camel-ai/camel\">Github</a> </i>, join our [*Discord*](https://discord.camel-ai.org) or follow our [*X*](https://x.com/camelaiorg)  ⭐\n",
    "</div>\n"
   ]
  }
 ],
 "metadata": {
  "accelerator": "GPU",
  "colab": {
   "gpuType": "T4",
   "provenance": []
  },
  "kernelspec": {
   "display_name": "camel_venv",
   "language": "python",
   "name": "camel_venv"
  },
  "language_info": {
   "codemirror_mode": {
    "name": "ipython",
    "version": 3
   },
   "file_extension": ".py",
   "mimetype": "text/x-python",
   "name": "python",
   "nbconvert_exporter": "python",
   "pygments_lexer": "ipython3",
   "version": "3.11.3"
  }
 },
 "nbformat": 4,
 "nbformat_minor": 0
}
