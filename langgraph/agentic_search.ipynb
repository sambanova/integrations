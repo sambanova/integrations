{
 "cells": [
  {
   "cell_type": "markdown",
   "id": "203d5817",
   "metadata": {},
   "source": [
    "## Introduction to Langgraph and SambaNova\n",
    "\n",
    "LangGraph provides low-level supporting infrastructure for any long-running, stateful workflow or agent.\n",
    "\n",
    "For this example, we use LangGraph and the SambaNovaCloud LLM to create a chatbot that integrates a web search tool. The chatbot can use this tool to find relevant information and provide more accurate responses."
   ]
  },
  {
   "cell_type": "markdown",
   "id": "034a900b",
   "metadata": {},
   "source": [
    "## Install dependencies"
   ]
  },
  {
   "cell_type": "code",
   "execution_count": null,
   "id": "0e292d17",
   "metadata": {},
   "outputs": [],
   "source": [
    "!pip install -U langchain-tavily\n",
    "!pip install langchain-sambanova\n",
    "!pip install langchain\n",
    "!pip install langgraph"
   ]
  },
  {
   "cell_type": "markdown",
   "id": "040ba4bc",
   "metadata": {},
   "source": [
    "## Set up the environment, tools and llm"
   ]
  },
  {
   "cell_type": "code",
   "execution_count": null,
   "id": "dcce48de",
   "metadata": {},
   "outputs": [],
   "source": [
    "import os\n",
    "\n",
    "os.environ[\"SAMBANOVA_API_KEY\"] = \"\"\n",
    "os.environ[\"TAVILY_API_KEY\"] = \"\""
   ]
  },
  {
   "cell_type": "code",
   "execution_count": 2,
   "id": "9cf4b46b",
   "metadata": {},
   "outputs": [],
   "source": [
    "from langchain_tavily import TavilySearch\n",
    "\n",
    "tool = TavilySearch(max_results=2)\n",
    "tools = [tool]"
   ]
  },
  {
   "cell_type": "code",
   "execution_count": null,
   "id": "09f38a81",
   "metadata": {},
   "outputs": [],
   "source": [
    "from langchain_sambanova import ChatSambaNovaCloud\n",
    "\n",
    "llm = ChatSambaNovaCloud(\n",
    "    model=\"Meta-Llama-3.3-70B-Instruct\",\n",
    "    max_tokens=1024,\n",
    "    temperature=0.7,\n",
    "    top_p=0.01,\n",
    ")"
   ]
  },
  {
   "cell_type": "markdown",
   "id": "6a882616",
   "metadata": {},
   "source": [
    "## Build the graph"
   ]
  },
  {
   "cell_type": "code",
   "execution_count": null,
   "id": "35ff1ae6",
   "metadata": {},
   "outputs": [
    {
     "data": {
      "text/plain": [
       "<langgraph.graph.state.StateGraph at 0x10c265190>"
      ]
     },
     "execution_count": 4,
     "metadata": {},
     "output_type": "execute_result"
    }
   ],
   "source": [
    "from typing import Annotated\n",
    "\n",
    "from typing_extensions import TypedDict\n",
    "\n",
    "from langgraph.graph import StateGraph, START, END\n",
    "from langgraph.graph.message import add_messages\n",
    "\n",
    "class State(TypedDict):\n",
    "    messages: Annotated[list, add_messages]\n",
    "\n",
    "graph_builder = StateGraph(State)\n",
    "\n",
    "llm_with_tools = llm.bind_tools(tools)\n",
    "\n",
    "def chatbot(state: State):\n",
    "    return {\"messages\": [llm_with_tools.invoke(state[\"messages\"])]}\n",
    "\n",
    "graph_builder.add_node(\"chatbot\", chatbot)"
   ]
  },
  {
   "cell_type": "code",
   "execution_count": 5,
   "id": "6b1ffe44",
   "metadata": {},
   "outputs": [
    {
     "data": {
      "text/plain": [
       "<langgraph.graph.state.StateGraph at 0x10c265190>"
      ]
     },
     "execution_count": 5,
     "metadata": {},
     "output_type": "execute_result"
    }
   ],
   "source": [
    "import json\n",
    "\n",
    "from langchain_core.messages import ToolMessage\n",
    "\n",
    "\n",
    "class BasicToolNode:\n",
    "    \"\"\"A node that runs the tools requested in the last AIMessage.\"\"\"\n",
    "\n",
    "    def __init__(self, tools: list) -> None:\n",
    "        self.tools_by_name = {tool.name: tool for tool in tools}\n",
    "\n",
    "    def __call__(self, inputs: dict):\n",
    "        if messages := inputs.get(\"messages\", []):\n",
    "            message = messages[-1]\n",
    "        else:\n",
    "            raise ValueError(\"No message found in input\")\n",
    "        outputs = []\n",
    "        for tool_call in message.tool_calls:\n",
    "            tool_result = self.tools_by_name[tool_call[\"name\"]].invoke(\n",
    "                tool_call[\"args\"]\n",
    "            )\n",
    "            outputs.append(\n",
    "                ToolMessage(\n",
    "                    content=json.dumps(tool_result),\n",
    "                    name=tool_call[\"name\"],\n",
    "                    tool_call_id=tool_call[\"id\"],\n",
    "                )\n",
    "            )\n",
    "        return {\"messages\": outputs}\n",
    "\n",
    "\n",
    "tool_node = BasicToolNode(tools=[tool])\n",
    "graph_builder.add_node(\"tools\", tool_node)"
   ]
  },
  {
   "cell_type": "code",
   "execution_count": 6,
   "id": "a65d1512",
   "metadata": {},
   "outputs": [],
   "source": [
    "def route_tools(\n",
    "    state: State,\n",
    "):\n",
    "    \"\"\"\n",
    "    Use in the conditional_edge to route to the ToolNode if the last message\n",
    "    has tool calls. Otherwise, route to the end.\n",
    "    \"\"\"\n",
    "    if isinstance(state, list):\n",
    "        ai_message = state[-1]\n",
    "    elif messages := state.get(\"messages\", []):\n",
    "        ai_message = messages[-1]\n",
    "    else:\n",
    "        raise ValueError(f\"No messages found in input state to tool_edge: {state}\")\n",
    "    if hasattr(ai_message, \"tool_calls\") and len(ai_message.tool_calls) > 0:\n",
    "        return \"tools\"\n",
    "    return END\n",
    "\n",
    "\n",
    "# The `tools_condition` function returns \"tools\" if the chatbot asks to use a tool, and \"END\" if\n",
    "# it is fine directly responding. This conditional routing defines the main agent loop.\n",
    "graph_builder.add_conditional_edges(\n",
    "    \"chatbot\",\n",
    "    route_tools,\n",
    "    # The following dictionary lets you tell the graph to interpret the condition's outputs as a specific node\n",
    "    # It defaults to the identity function, but if you\n",
    "    # want to use a node named something else apart from \"tools\",\n",
    "    # You can update the value of the dictionary to something else\n",
    "    # e.g., \"tools\": \"my_tools\"\n",
    "    {\"tools\": \"tools\", END: END},\n",
    ")\n",
    "# Any time a tool is called, we return to the chatbot to decide the next step\n",
    "graph_builder.add_edge(\"tools\", \"chatbot\")\n",
    "graph_builder.add_edge(START, \"chatbot\")\n",
    "graph = graph_builder.compile()"
   ]
  },
  {
   "cell_type": "markdown",
   "id": "480c0423",
   "metadata": {},
   "source": [
    "## Display the graph"
   ]
  },
  {
   "cell_type": "code",
   "execution_count": null,
   "id": "fad6d27b",
   "metadata": {},
   "outputs": [
    {
     "data": {
      "image/png": "[encoded data removed]",
      "text/plain": [
       "<IPython.core.display.Image object>"
      ]
     },
     "metadata": {},
     "output_type": "display_data"
    }
   ],
   "source": [
    "from IPython.display import Image, display\n",
    "\n",
    "try:\n",
    "    display(Image(graph.get_graph().draw_mermaid_png()))\n",
    "except Exception:\n",
    "    pass"
   ]
  },
  {
   "cell_type": "markdown",
   "id": "f290b286",
   "metadata": {},
   "source": [
    "## Ask the chatbot questions"
   ]
  },
  {
   "cell_type": "code",
   "execution_count": 8,
   "id": "f355559d",
   "metadata": {},
   "outputs": [
    {
     "name": "stdout",
     "output_type": "stream",
     "text": [
      "Assistant: \n",
      "User: What do you know about SambaNova Systems?\n",
      "Assistant: \n",
      "Assistant: {\"query\": \"SambaNova Systems\", \"follow_up_questions\": null, \"answer\": null, \"images\": [], \"results\": [{\"url\": \"https://www.businesswire.com/news/home/20250318772992/en/SambaNova-Named-4-on-Fast-Companys-Most-Innovative-Companies-of-2025-List\", \"title\": \"SambaNova Named #4 on Fast Company's Most Innovative ...\", \"content\": \"Headquartered in Palo Alto, California, SambaNova Systems was founded in 2017 by industry luminaries, and hardware and software design experts from Sun/Oracle and Stanford University. Investors include SoftBank Vision Fund 2, funds and accounts managed by BlackRock, Intel Capital, GV, Walden International, Temasek, GIC, Redline Capital, Atlantic Bridge Ventures, Celesta, and several others. Visit us at [...] \\u201cSambaNova is leading the next wave of enterprise AI, delivering real-time inference at unmatched speed and efficiency,\\u201d said Rodrigo Liang, CEO and co-founder of SambaNova Systems. \\u201cOur purpose-built architecture redefines performance and sustainability, empowering businesses to scale AI faster while cutting costs and energy use. This award affirms our role in shaping the future of AI infrastructure.\\u201d [...] PALO ALTO, Calif.--([BUSINESS WIRE](https://www.businesswire.com/))--[SambaNova](https://cts.businesswire.com/ct/CT?id=smartlink&url=https%3A%2F%2Fsambanova.ai%2F&esheet=54225639&newsitemid=20250318772992&lan=en-US&anchor=SambaNova&index=1&md5=dae141bd7ddccd7483e0b9cb21ea8974), the AI inference company delivering fast, efficient AI chips and high performance models, has been named to _Fast Company_\\u2019s World\\u2019s Most Innovative Companies of 2025 list, [ranking fourth within the computing\", \"score\": 0.87348515, \"raw_content\": null}, {\"url\": \"https://www.crunchbase.com/organization/sambanova-systems\", \"title\": \"SambaNova Systems - Crunchbase Company Profile & Funding\", \"content\": \"SambaNova Systems develops software and hardware solutions for artificial intelligence and machine learning applications. It creates systems that support\", \"score\": 0.80625874, \"raw_content\": null}], \"response_time\": 1.21}\n",
      "Assistant: SambaNova Systems is a company that develops software and hardware solutions for artificial intelligence and machine learning applications. They have been named to Fast Company's World's Most Innovative Companies of 2025 list, ranking fourth within the computing category. The company was founded in 2017 by industry luminaries and hardware and software design experts from Sun/Oracle and Stanford University, and has received funding from investors such as SoftBank Vision Fund 2, BlackRock, Intel Capital, and others. SambaNova Systems is headquartered in Palo Alto, California, and its purpose-built architecture is designed to deliver real-time inference at unmatched speed and efficiency, empowering businesses to scale AI faster while cutting costs and energy use.\n"
     ]
    }
   ],
   "source": [
    "def stream_graph_updates(user_input: str):\n",
    "    for event in graph.stream({\"messages\": [{\"role\": \"user\", \"content\": user_input}]}):\n",
    "        for value in event.values():\n",
    "            print(\"Assistant:\", value[\"messages\"][-1].content)\n",
    "\n",
    "while True:\n",
    "    try:\n",
    "        user_input = input(\"User: \")\n",
    "        if user_input.lower() in [\"quit\", \"exit\", \"q\"]:\n",
    "            print(\"Goodbye!\")\n",
    "            break\n",
    "\n",
    "        stream_graph_updates(user_input)\n",
    "    except:\n",
    "        # fallback if input() is not available\n",
    "        user_input = \"What do you know about SambaNova Systems?\"\n",
    "        print(\"User: \" + user_input)\n",
    "        stream_graph_updates(user_input)\n",
    "        break"
   ]
  }
 ],
 "metadata": {
  "language_info": {
   "name": "python"
  }
 },
 "nbformat": 4,
 "nbformat_minor": 5
}
