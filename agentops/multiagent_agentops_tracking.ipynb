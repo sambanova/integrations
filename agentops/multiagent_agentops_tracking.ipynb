{
 "cells": [
  {
   "cell_type": "markdown",
   "metadata": {},
   "source": [
    "<picture>\n",
    "<a href=\"https://sambanova.ai/\"\\>\n",
    "<source media=\"(prefers-color-scheme: dark)\" srcset=\"../images/SambaNova-light-logo-1.png\" height=\"60\">\n",
    "<img alt=\"SambaNova logo\" src=\"../images/SambaNova-dark-logo-1.png\" height=\"60\">\n",
    "</picture>\n",
    "</a>\n",
    "\n",
    "# Agentops Agent Tracking with SambaNova \n",
    "\n",
    "Adapted from the same [Agentops example](https://docs.agentops.ai/v1/examples/multi_agent).\n",
    "\n",
    "Integrating AgentOps with SambaNova Cloud enhances AI agent development by providing real-time monitoring, debugging, and cost management for LLM inference. AgentOps offers session replay analytics, time-travel debugging, and API latency tracking, helping developers optimize performance and troubleshoot issues efficiently. \n",
    "\n",
    "You'll need first to import the necessary modules. Please, create a `.env` file at the repository root and include `SAMBANOVA_URL` and `SAMBANOVA_API_KEY` after creating your [SambaNova Cloud API key](https://cloud.sambanova.ai/apis). You'll also need to add the `AGENTOPS_API_KEY`, so follow the steps in [this link.](https://app.agentops.ai/settings/projects)\n",
    "\n",
    "Then, create a venv using the framework that you prefer and install the dependencies in the `requirements.txt` located in the current folder.\n"
   ]
  },
  {
   "cell_type": "code",
   "execution_count": null,
   "metadata": {},
   "outputs": [],
   "source": [
    "import os\n",
    "import agentops\n",
    "from agentops import track_agent\n",
    "from openai import OpenAI\n",
    "from IPython.display import display, Markdown"
   ]
  },
  {
   "cell_type": "code",
   "execution_count": null,
   "metadata": {},
   "outputs": [],
   "source": [
    "from dotenv import load_dotenv\n",
    "\n",
    "load_dotenv('../../.env',override=True)\n",
    "\n",
    "sambanova_base_url = os.getenv('SAMBANOVA_URL')\n",
    "sambanova_api_key = os.getenv('SAMBANOVA_API_KEY')\n",
    "agentops_api_key = os.getenv(\"AGENTOPS_API_KEY\")\n",
    "\n",
    "import logging\n",
    "logging.basicConfig(\n",
    "    level=logging.DEBUG\n",
    ")  # this will let us see that calls are assigned to an agent"
   ]
  },
  {
   "cell_type": "code",
   "execution_count": null,
   "metadata": {},
   "outputs": [],
   "source": [
    "agentops.init(agentops_api_key, default_tags=[\"multi-agent-notebook\"])\n",
    "sambanova_client = OpenAI(base_url=sambanova_base_url, api_key=sambanova_api_key)"
   ]
  },
  {
   "cell_type": "code",
   "execution_count": null,
   "metadata": {},
   "outputs": [],
   "source": [
    "@track_agent(name=\"qa\")\n",
    "class QaAgent:\n",
    "    def completion(self, prompt: str):\n",
    "        res = sambanova_client.chat.completions.create(\n",
    "            model=\"Meta-Llama-3.1-70B-Instruct\",\n",
    "            messages=[\n",
    "                {\n",
    "                    \"role\": \"system\",\n",
    "                    \"content\": \"You are a qa engineer and only output python code, no markdown tags.\",\n",
    "                },\n",
    "                {\"role\": \"user\", \"content\": prompt},\n",
    "            ],\n",
    "            temperature=0.5,\n",
    "        )\n",
    "        return res.choices[0].message.content\n",
    "\n",
    "\n",
    "@track_agent(name=\"engineer\")\n",
    "class EngineerAgent:\n",
    "    def completion(self, prompt: str):\n",
    "        res = sambanova_client.chat.completions.create(\n",
    "            model=\"Meta-Llama-3.1-70B-Instruct\",\n",
    "            messages=[\n",
    "                {\n",
    "                    \"role\": \"system\",\n",
    "                    \"content\": \"You are a software engineer and only output python code, no markdown tags.\",\n",
    "                },\n",
    "                {\"role\": \"user\", \"content\": prompt},\n",
    "            ],\n",
    "            temperature=0.5,\n",
    "        )\n",
    "        return res.choices[0].message.content"
   ]
  },
  {
   "cell_type": "code",
   "execution_count": null,
   "metadata": {},
   "outputs": [],
   "source": [
    "qa = QaAgent()\n",
    "engineer = EngineerAgent()"
   ]
  },
  {
   "cell_type": "code",
   "execution_count": null,
   "metadata": {},
   "outputs": [],
   "source": [
    "generated_func = engineer.completion(\"python function to test prime number\")"
   ]
  },
  {
   "cell_type": "code",
   "execution_count": null,
   "metadata": {},
   "outputs": [],
   "source": [
    "display(Markdown(\"```python\\n\" + generated_func + \"\\n```\"))"
   ]
  },
  {
   "cell_type": "code",
   "execution_count": null,
   "metadata": {},
   "outputs": [],
   "source": [
    "generated_test = qa.completion(\n",
    "    \"Write a python unit test that test the following function: \\n \" + generated_func\n",
    ")"
   ]
  },
  {
   "cell_type": "code",
   "execution_count": null,
   "metadata": {},
   "outputs": [],
   "source": [
    "display(Markdown(\"```python\\n\" + generated_test + \"\\n```\"))"
   ]
  },
  {
   "cell_type": "code",
   "execution_count": null,
   "metadata": {},
   "outputs": [],
   "source": [
    "res = sambanova_client.chat.completions.create(\n",
    "    model=\"Meta-Llama-3.1-70B-Instruct\",\n",
    "    messages=[\n",
    "        {\"role\": \"system\", \"content\": \"You are not a tracked agent\"},\n",
    "        {\"role\": \"user\", \"content\": \"Say hello\"},\n",
    "    ],\n",
    ")\n",
    "res.choices[0].message.content"
   ]
  },
  {
   "cell_type": "markdown",
   "metadata": {},
   "source": [
    "Look at the **Session Replay** in the following cell output. Click on it and log in to AgentOps. You'll see several options related to your LLM runs and stats."
   ]
  },
  {
   "cell_type": "code",
   "execution_count": null,
   "metadata": {},
   "outputs": [],
   "source": [
    "agentops.end_session(\"Success\")\n",
    "# ...\n",
    "# 🖇 AgentOps: Session Stats - Duration: Xs | Cost: $X | LLMs: 3 | Tools: 0 | Actions: 0 | Errors: 0\n",
    "# 🖇 AgentOps: Session Replay: <<AGENTOPS_URL>>"
   ]
  }
 ],
 "metadata": {
  "kernelspec": {
   "display_name": "agentops_venv",
   "language": "python",
   "name": "agentops_venv"
  },
  "language_info": {
   "codemirror_mode": {
    "name": "ipython",
    "version": 3
   },
   "file_extension": ".py",
   "mimetype": "text/x-python",
   "name": "python",
   "nbconvert_exporter": "python",
   "pygments_lexer": "ipython3",
   "version": "3.11.3"
  }
 },
 "nbformat": 4,
 "nbformat_minor": 2
}
