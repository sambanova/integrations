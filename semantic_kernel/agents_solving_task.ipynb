{
 "cells": [
  {
   "cell_type": "markdown",
   "metadata": {},
   "source": [
    "<picture>\n",
    "<a href=\"https://sambanova.ai/\"\\>\n",
    "<source media=\"(prefers-color-scheme: dark)\" srcset=\"../../images/SambaNova-light-logo-1.png\" height=\"60\">\n",
    "<img alt=\"SambaNova logo\" src=\"../../images/SambaNova-dark-logo-1.png\" height=\"60\">\n",
    "</picture>\n",
    "</a>\n",
    "\n",
    "# Semantic Kernel Example\n",
    "\n",
    "Code adapted from [here](https://github.com/microsoft/semantic-kernel/blob/main/python/samples/getting_started_with_agents/step3_chat.py). The following sample demonstrates how to create a simple, agent group chat that utilizes An Art Director Chat Completion Agent along with a Copy Writer Chat Completion Agent to complete a task.   \n",
    "\n",
    "You will need to create a [SambaNova Cloud API key](https://cloud.sambanova.ai/apis) and add to the `.env` file in the repo the following variables needed:\n",
    "```\n",
    "GLOBAL_LLM_SERVICE=\"OpenAI\"\n",
    "OPENAI_API_KEY=\"<<YOUR_API_KEY>>\"\n",
    "OPENAI_BASE_URL=\"https://api.sambanova.ai/v1/\"\n",
    "OPENAI_CHAT_MODEL_ID=\"Meta-Llama-3.1-70B-Instruct\"\n",
    "OPENAI_TEXT_MODEL_ID=\"\"\n",
    "OPENAI_EMBEDDING_MODEL_ID=\"\"\n",
    "OPENAI_ORG_ID=\"\"\n",
    "```\n",
    "Please review [this notebook](https://github.com/microsoft/semantic-kernel/blob/main/python/samples/getting_started/00-getting-started.ipynb) if you have any questions related to these env variables. In this example, we're levaraging from the fact that SambaNova Cloud is OpenAI compatible."
   ]
  },
  {
   "cell_type": "code",
   "execution_count": null,
   "metadata": {},
   "outputs": [],
   "source": [
    "import sys\n",
    "sys.path.append('../../')\n",
    "import asyncio\n",
    "\n",
    "from semantic_kernel import Kernel\n",
    "from semantic_kernel.agents import AgentGroupChat, ChatCompletionAgent\n",
    "from semantic_kernel.agents.strategies import DefaultTerminationStrategy\n",
    "from semantic_kernel.connectors.ai.open_ai import OpenAIChatCompletion\n",
    "from semantic_kernel.contents import AuthorRole, ChatMessageContent\n",
    "\n",
    "from dotenv import load_dotenv \n",
    "load_dotenv(override=True)"
   ]
  },
  {
   "cell_type": "code",
   "execution_count": 3,
   "metadata": {},
   "outputs": [],
   "source": [
    "def _create_kernel_with_chat_completion(service_id: str) -> Kernel:\n",
    "    kernel = Kernel()\n",
    "    kernel.add_service(OpenAIChatCompletion(service_id=service_id))\n",
    "    return kernel"
   ]
  },
  {
   "cell_type": "code",
   "execution_count": 4,
   "metadata": {},
   "outputs": [],
   "source": [
    "class ApprovalTerminationStrategy(DefaultTerminationStrategy):\n",
    "    \"\"\"A strategy for determining when an agent should terminate.\"\"\"\n",
    "\n",
    "    async def should_agent_terminate(self, agent, history):\n",
    "        \"\"\"Check if the agent should terminate.\"\"\"\n",
    "        return \"approved\" in history[-1].content.lower()"
   ]
  },
  {
   "cell_type": "code",
   "execution_count": 5,
   "metadata": {},
   "outputs": [],
   "source": [
    "async def main():\n",
    "    \n",
    "    # Art director agent\n",
    "    REVIEWER_NAME = \"ArtDirector\"\n",
    "    REVIEWER_INSTRUCTIONS = \"\"\"\n",
    "    You are an art director who has opinions about copywriting born of a love for David Ogilvy.\n",
    "    The goal is to determine if the given copy is acceptable to print.\n",
    "    If so, state that it is approved.\n",
    "    If not, provide insight on how to refine suggested copy without example.\n",
    "    \"\"\"\n",
    "    agent_reviewer = ChatCompletionAgent(\n",
    "        service_id=\"artdirector\",\n",
    "        kernel=_create_kernel_with_chat_completion(\"artdirector\"),\n",
    "        name=REVIEWER_NAME,\n",
    "        instructions=REVIEWER_INSTRUCTIONS,\n",
    "    )\n",
    "\n",
    "    # Copywriter agent\n",
    "    COPYWRITER_NAME = \"CopyWriter\"\n",
    "    COPYWRITER_INSTRUCTIONS = \"\"\"\n",
    "    You are a copywriter with ten years of experience and are known for brevity and a dry humor.\n",
    "    The goal is to refine and decide on the single best copy as an expert in the field.\n",
    "    Only provide a single proposal per response.\n",
    "    You're laser focused on the goal at hand.\n",
    "    Don't waste time with chit chat.\n",
    "    Consider suggestions when refining an idea.\n",
    "    \"\"\"\n",
    "    agent_writer = ChatCompletionAgent(\n",
    "        service_id=\"copywriter\",\n",
    "        kernel=_create_kernel_with_chat_completion(\"copywriter\"),\n",
    "        name=COPYWRITER_NAME,\n",
    "        instructions=COPYWRITER_INSTRUCTIONS,\n",
    "    )\n",
    "\n",
    "    # Group chat\n",
    "    group_chat = AgentGroupChat(\n",
    "        agents=[\n",
    "            agent_writer,\n",
    "            agent_reviewer,\n",
    "        ],\n",
    "        termination_strategy=ApprovalTerminationStrategy(\n",
    "            agents=[agent_reviewer],\n",
    "            maximum_iterations=10,\n",
    "        ),\n",
    "    )\n",
    "\n",
    "    # Start the group chat and wait for it to complete\n",
    "    input = \"a slogan for a new line of electric cars.\"\n",
    "\n",
    "    await group_chat.add_chat_message(ChatMessageContent(role=AuthorRole.USER, content=input))\n",
    "    print(f\"# User: '{input}'\")\n",
    "\n",
    "    async for content in group_chat.invoke():\n",
    "        print(f\"# Agent - {content.name or '*'}: '{content.content}'\")\n",
    "\n",
    "    print(f\"# IS COMPLETE: {group_chat.is_complete}\")\n"
   ]
  },
  {
   "cell_type": "code",
   "execution_count": null,
   "metadata": {},
   "outputs": [],
   "source": [
    "await main()"
   ]
  }
 ],
 "metadata": {
  "kernelspec": {
   "display_name": "semantic_kernel_venv",
   "language": "python",
   "name": "semantic_kernel_venv"
  },
  "language_info": {
   "codemirror_mode": {
    "name": "ipython",
    "version": 3
   },
   "file_extension": ".py",
   "mimetype": "text/x-python",
   "name": "python",
   "nbconvert_exporter": "python",
   "pygments_lexer": "ipython3",
   "version": "3.11.3"
  }
 },
 "nbformat": 4,
 "nbformat_minor": 2
}
