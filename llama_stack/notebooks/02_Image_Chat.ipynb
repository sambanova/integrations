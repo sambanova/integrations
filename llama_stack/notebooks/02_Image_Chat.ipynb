{
 "cells": [
  {
   "cell_type": "markdown",
   "id": "923343b0-d4bd-4361-b8d4-dd29f86a0fbd",
   "metadata": {},
   "source": [
    "## LlamaStack Vision API\n",
    "This notebook demonstrates how to use the inference adaptor to interact with the SambaNova cloud-based vision models.\n",
    "\n",
    "Please refer to the [llama-stack quickstart documentation](https://llama-stack.readthedocs.io/en/latest/getting_started/index.html) for further details."
   ]
  },
  {
   "cell_type": "markdown",
   "id": "143837c6-1072-4015-8297-514712704087",
   "metadata": {},
   "source": [
    "## Setup"
   ]
  },
  {
   "cell_type": "code",
   "execution_count": 1,
   "id": "5219e695",
   "metadata": {},
   "outputs": [],
   "source": [
    "# Imports\n",
    "import asyncio\n",
    "import base64\n",
    "import mimetypes\n",
    "from llama_stack_client import LlamaStackClient\n",
    "from llama_stack_client.lib.inference.event_logger import EventLogger\n",
    "from llama_stack_client.types import UserMessage\n",
    "from termcolor import cprint\n",
    "import os"
   ]
  },
  {
   "cell_type": "code",
   "execution_count": 2,
   "id": "1d293479-9dde-4b68-94ab-d0c4c61ab08c",
   "metadata": {},
   "outputs": [],
   "source": [
    "# Select model\n",
    "model = 'sambanova/Llama-4-Maverick-17B-128E-Instruct'\n",
    "# Select image path\n",
    "image_path='../../images/SambaNova-dark-logo-1.png'"
   ]
  },
  {
   "cell_type": "code",
   "execution_count": 3,
   "id": "ed7a60c7",
   "metadata": {},
   "outputs": [],
   "source": [
    "# Initialize client\n",
    "LLAMA_STACK_PORT=8321\n",
    "client = LlamaStackClient(\n",
    "    base_url=f\"http://localhost:{LLAMA_STACK_PORT}\",\n",
    ")"
   ]
  },
  {
   "cell_type": "markdown",
   "id": "51984856-dfc7-4226-817a-1d44853e6661",
   "metadata": {},
   "source": [
    "## Helper functions\n",
    "Some utility functions to handle image processing and API interaction."
   ]
  },
  {
   "cell_type": "code",
   "execution_count": 4,
   "id": "8e65aae0-3ef0-4084-8c59-273a89ac9510",
   "metadata": {},
   "outputs": [],
   "source": [
    "def encode_image_to_data_url(file_path: str) -> str:\n",
    "    \"\"\"\n",
    "    Encode an image file to a data URL.\n",
    "\n",
    "    Args:\n",
    "        file_path: Path to the image file\n",
    "\n",
    "    Returns:\n",
    "        Data URL string\n",
    "    \"\"\"\n",
    "    mime_type, _ = mimetypes.guess_type(file_path)\n",
    "    if mime_type is None:\n",
    "        raise ValueError(\"Could not determine MIME type of the file\")\n",
    "\n",
    "    with open(file_path, \"rb\") as image_file:\n",
    "        encoded_string = base64.b64encode(image_file.read()).decode(\"utf-8\")\n",
    "\n",
    "    return f\"data:{mime_type};base64,{encoded_string}\"\n"
   ]
  },
  {
   "cell_type": "markdown",
   "id": "8073b673-e730-4557-8980-fd8b7ea11975",
   "metadata": {},
   "source": [
    "## Chat with the image\n",
    "The code below uses the Llama Stack Chat API to interact with the LLM.\n"
   ]
  },
  {
   "cell_type": "code",
   "execution_count": 5,
   "id": "9f2c26ce",
   "metadata": {},
   "outputs": [],
   "source": [
    "def process_image_chat(client: LlamaStackClient, image_path: str, stream: bool = True):\n",
    "    \"\"\"\n",
    "    Process an image through the LlamaStack Chat API.\n",
    "\n",
    "    Args:\n",
    "        client: Initialized client.\n",
    "        image_path: Path to image file.capitalize.\n",
    "        stream: Whether to stream the response.\n",
    "    \"\"\"\n",
    "    data_url = encode_image_to_data_url(image_path)\n",
    "\n",
    "    messages=[\n",
    "        {\n",
    "            'role': 'user', \n",
    "            'content': [\n",
    "                {'type': 'image', 'image': {'url': {'uri': data_url}}},\n",
    "                {'type': 'text', 'text': 'What does this image represent?'}\n",
    "            ]\n",
    "        },\n",
    "    ]\n",
    "    \n",
    "    cprint(\"User> Sending image for analysis...\", \"green\")\n",
    "    response = client.inference.chat_completion(\n",
    "        messages=messages,\n",
    "        model_id=model,\n",
    "        stream=stream,\n",
    "    )\n",
    "\n",
    "    if stream:\n",
    "        text = ''\n",
    "        for chunk in response:\n",
    "            if chunk.event is not None:\n",
    "                print(f'{chunk.event.delta.text}', end='', flush=True)\n",
    "                text += chunk.event.delta.text\n",
    "    else:\n",
    "        print(\n",
    "            f'Type: {type(response.completion_message.content)}, '\n",
    "            f'Value:{response.completion_message.content}'\n",
    "        )"
   ]
  },
  {
   "cell_type": "code",
   "execution_count": 6,
   "id": "8f7ed518",
   "metadata": {},
   "outputs": [
    {
     "name": "stdout",
     "output_type": "stream",
     "text": [
      "\u001b[32mUser> Sending image for analysis...\u001b[0m\n",
      "The image represents the logo of SambaNova Systems, a company that specializes in artificial intelligence (AI) and machine learning (ML) technology. The logo is a stylized representation of the company's name and brand identity.\n",
      "\n",
      "**Key Elements:**\n",
      "\n",
      "* **Logo:** The logo features a stylized letter \"S\" made up of curved lines, which are likely intended to represent the flow of data or information.\n",
      "* **Color Scheme:** The logo is presented in two colors: orange and dark blue. The orange color is used for the stylized \"S,\" while the dark blue is used for the text \"SambaNova SYSTEMS.\"\n",
      "* **Text:** The text \"SambaNova SYSTEMS\" is written in a clean, modern font next to the logo. The word \"SambaNova\" is prominently displayed in large letters, with \"SYSTEMS\" written in smaller letters underneath.\n",
      "* **Trademark Symbol:** A registered trademark symbol is visible after the word \"Nova,\" indicating that the name \"SambaNova\" is a registered trademark.\n",
      "\n",
      "**Overall Impression:**\n",
      "\n",
      "The logo effectively communicates the company's focus on AI and ML technology through its sleek and modern design. The use of a stylized \"S\" and a bold color scheme creates a strong visual identity for the brand. The inclusion of the trademark symbol adds a level of professionalism and legitimacy to the logo. Overall, the logo suggests that SambaNova Systems is a cutting-edge technology company that is committed to innovation and excellence in the field of AI and ML."
     ]
    }
   ],
   "source": [
    "# Chat with the iamge\n",
    "process_image_chat(client=client, image_path=image_path, stream=True)"
   ]
  },
  {
   "cell_type": "code",
   "execution_count": null,
   "id": "b4e8f494",
   "metadata": {},
   "outputs": [],
   "source": []
  }
 ],
 "metadata": {
  "kernelspec": {
   "display_name": "llamastackenv",
   "language": "python",
   "name": "python3"
  },
  "language_info": {
   "codemirror_mode": {
    "name": "ipython",
    "version": 3
   },
   "file_extension": ".py",
   "mimetype": "text/x-python",
   "name": "python",
   "nbconvert_exporter": "python",
   "pygments_lexer": "ipython3",
   "version": "3.11.3"
  }
 },
 "nbformat": 4,
 "nbformat_minor": 5
}
